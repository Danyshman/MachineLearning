{
 "cells": [
  {
   "cell_type": "code",
   "execution_count": 4,
   "metadata": {},
   "outputs": [],
   "source": [
    "import numpy as np\n",
    "import pandas as pd\n",
    "import matplotlib.pyplot as plt\n",
    "import seaborn as sns\n",
    "%matplotlib inline"
   ]
  },
  {
   "cell_type": "code",
   "execution_count": 5,
   "metadata": {},
   "outputs": [],
   "source": [
    "train_df = pd.read_csv('fashion-mnist_train.csv')\n",
    "test_df = pd.read_csv('fashion-mnist_test.csv')"
   ]
  },
  {
   "cell_type": "code",
   "execution_count": 6,
   "metadata": {},
   "outputs": [
    {
     "data": {
      "text/html": [
       "<div>\n",
       "<style scoped>\n",
       "    .dataframe tbody tr th:only-of-type {\n",
       "        vertical-align: middle;\n",
       "    }\n",
       "\n",
       "    .dataframe tbody tr th {\n",
       "        vertical-align: top;\n",
       "    }\n",
       "\n",
       "    .dataframe thead th {\n",
       "        text-align: right;\n",
       "    }\n",
       "</style>\n",
       "<table border=\"1\" class=\"dataframe\">\n",
       "  <thead>\n",
       "    <tr style=\"text-align: right;\">\n",
       "      <th></th>\n",
       "      <th>label</th>\n",
       "      <th>pixel1</th>\n",
       "      <th>pixel2</th>\n",
       "      <th>pixel3</th>\n",
       "      <th>pixel4</th>\n",
       "      <th>pixel5</th>\n",
       "      <th>pixel6</th>\n",
       "      <th>pixel7</th>\n",
       "      <th>pixel8</th>\n",
       "      <th>pixel9</th>\n",
       "      <th>...</th>\n",
       "      <th>pixel775</th>\n",
       "      <th>pixel776</th>\n",
       "      <th>pixel777</th>\n",
       "      <th>pixel778</th>\n",
       "      <th>pixel779</th>\n",
       "      <th>pixel780</th>\n",
       "      <th>pixel781</th>\n",
       "      <th>pixel782</th>\n",
       "      <th>pixel783</th>\n",
       "      <th>pixel784</th>\n",
       "    </tr>\n",
       "  </thead>\n",
       "  <tbody>\n",
       "    <tr>\n",
       "      <th>0</th>\n",
       "      <td>2</td>\n",
       "      <td>0</td>\n",
       "      <td>0</td>\n",
       "      <td>0</td>\n",
       "      <td>0</td>\n",
       "      <td>0</td>\n",
       "      <td>0</td>\n",
       "      <td>0</td>\n",
       "      <td>0</td>\n",
       "      <td>0</td>\n",
       "      <td>...</td>\n",
       "      <td>0</td>\n",
       "      <td>0</td>\n",
       "      <td>0</td>\n",
       "      <td>0</td>\n",
       "      <td>0</td>\n",
       "      <td>0</td>\n",
       "      <td>0</td>\n",
       "      <td>0</td>\n",
       "      <td>0</td>\n",
       "      <td>0</td>\n",
       "    </tr>\n",
       "    <tr>\n",
       "      <th>1</th>\n",
       "      <td>9</td>\n",
       "      <td>0</td>\n",
       "      <td>0</td>\n",
       "      <td>0</td>\n",
       "      <td>0</td>\n",
       "      <td>0</td>\n",
       "      <td>0</td>\n",
       "      <td>0</td>\n",
       "      <td>0</td>\n",
       "      <td>0</td>\n",
       "      <td>...</td>\n",
       "      <td>0</td>\n",
       "      <td>0</td>\n",
       "      <td>0</td>\n",
       "      <td>0</td>\n",
       "      <td>0</td>\n",
       "      <td>0</td>\n",
       "      <td>0</td>\n",
       "      <td>0</td>\n",
       "      <td>0</td>\n",
       "      <td>0</td>\n",
       "    </tr>\n",
       "    <tr>\n",
       "      <th>2</th>\n",
       "      <td>6</td>\n",
       "      <td>0</td>\n",
       "      <td>0</td>\n",
       "      <td>0</td>\n",
       "      <td>0</td>\n",
       "      <td>0</td>\n",
       "      <td>0</td>\n",
       "      <td>0</td>\n",
       "      <td>5</td>\n",
       "      <td>0</td>\n",
       "      <td>...</td>\n",
       "      <td>0</td>\n",
       "      <td>0</td>\n",
       "      <td>0</td>\n",
       "      <td>30</td>\n",
       "      <td>43</td>\n",
       "      <td>0</td>\n",
       "      <td>0</td>\n",
       "      <td>0</td>\n",
       "      <td>0</td>\n",
       "      <td>0</td>\n",
       "    </tr>\n",
       "    <tr>\n",
       "      <th>3</th>\n",
       "      <td>0</td>\n",
       "      <td>0</td>\n",
       "      <td>0</td>\n",
       "      <td>0</td>\n",
       "      <td>1</td>\n",
       "      <td>2</td>\n",
       "      <td>0</td>\n",
       "      <td>0</td>\n",
       "      <td>0</td>\n",
       "      <td>0</td>\n",
       "      <td>...</td>\n",
       "      <td>3</td>\n",
       "      <td>0</td>\n",
       "      <td>0</td>\n",
       "      <td>0</td>\n",
       "      <td>0</td>\n",
       "      <td>1</td>\n",
       "      <td>0</td>\n",
       "      <td>0</td>\n",
       "      <td>0</td>\n",
       "      <td>0</td>\n",
       "    </tr>\n",
       "    <tr>\n",
       "      <th>4</th>\n",
       "      <td>3</td>\n",
       "      <td>0</td>\n",
       "      <td>0</td>\n",
       "      <td>0</td>\n",
       "      <td>0</td>\n",
       "      <td>0</td>\n",
       "      <td>0</td>\n",
       "      <td>0</td>\n",
       "      <td>0</td>\n",
       "      <td>0</td>\n",
       "      <td>...</td>\n",
       "      <td>0</td>\n",
       "      <td>0</td>\n",
       "      <td>0</td>\n",
       "      <td>0</td>\n",
       "      <td>0</td>\n",
       "      <td>0</td>\n",
       "      <td>0</td>\n",
       "      <td>0</td>\n",
       "      <td>0</td>\n",
       "      <td>0</td>\n",
       "    </tr>\n",
       "  </tbody>\n",
       "</table>\n",
       "<p>5 rows × 785 columns</p>\n",
       "</div>"
      ],
      "text/plain": [
       "   label  pixel1  pixel2  pixel3  pixel4  pixel5  pixel6  pixel7  pixel8  \\\n",
       "0      2       0       0       0       0       0       0       0       0   \n",
       "1      9       0       0       0       0       0       0       0       0   \n",
       "2      6       0       0       0       0       0       0       0       5   \n",
       "3      0       0       0       0       1       2       0       0       0   \n",
       "4      3       0       0       0       0       0       0       0       0   \n",
       "\n",
       "   pixel9  ...  pixel775  pixel776  pixel777  pixel778  pixel779  pixel780  \\\n",
       "0       0  ...         0         0         0         0         0         0   \n",
       "1       0  ...         0         0         0         0         0         0   \n",
       "2       0  ...         0         0         0        30        43         0   \n",
       "3       0  ...         3         0         0         0         0         1   \n",
       "4       0  ...         0         0         0         0         0         0   \n",
       "\n",
       "   pixel781  pixel782  pixel783  pixel784  \n",
       "0         0         0         0         0  \n",
       "1         0         0         0         0  \n",
       "2         0         0         0         0  \n",
       "3         0         0         0         0  \n",
       "4         0         0         0         0  \n",
       "\n",
       "[5 rows x 785 columns]"
      ]
     },
     "execution_count": 6,
     "metadata": {},
     "output_type": "execute_result"
    }
   ],
   "source": [
    "train_df.head()"
   ]
  },
  {
   "cell_type": "code",
   "execution_count": 7,
   "metadata": {},
   "outputs": [
    {
     "data": {
      "text/html": [
       "<div>\n",
       "<style scoped>\n",
       "    .dataframe tbody tr th:only-of-type {\n",
       "        vertical-align: middle;\n",
       "    }\n",
       "\n",
       "    .dataframe tbody tr th {\n",
       "        vertical-align: top;\n",
       "    }\n",
       "\n",
       "    .dataframe thead th {\n",
       "        text-align: right;\n",
       "    }\n",
       "</style>\n",
       "<table border=\"1\" class=\"dataframe\">\n",
       "  <thead>\n",
       "    <tr style=\"text-align: right;\">\n",
       "      <th></th>\n",
       "      <th>label</th>\n",
       "      <th>pixel1</th>\n",
       "      <th>pixel2</th>\n",
       "      <th>pixel3</th>\n",
       "      <th>pixel4</th>\n",
       "      <th>pixel5</th>\n",
       "      <th>pixel6</th>\n",
       "      <th>pixel7</th>\n",
       "      <th>pixel8</th>\n",
       "      <th>pixel9</th>\n",
       "      <th>...</th>\n",
       "      <th>pixel775</th>\n",
       "      <th>pixel776</th>\n",
       "      <th>pixel777</th>\n",
       "      <th>pixel778</th>\n",
       "      <th>pixel779</th>\n",
       "      <th>pixel780</th>\n",
       "      <th>pixel781</th>\n",
       "      <th>pixel782</th>\n",
       "      <th>pixel783</th>\n",
       "      <th>pixel784</th>\n",
       "    </tr>\n",
       "  </thead>\n",
       "  <tbody>\n",
       "    <tr>\n",
       "      <th>0</th>\n",
       "      <td>0</td>\n",
       "      <td>0</td>\n",
       "      <td>0</td>\n",
       "      <td>0</td>\n",
       "      <td>0</td>\n",
       "      <td>0</td>\n",
       "      <td>0</td>\n",
       "      <td>0</td>\n",
       "      <td>9</td>\n",
       "      <td>8</td>\n",
       "      <td>...</td>\n",
       "      <td>103</td>\n",
       "      <td>87</td>\n",
       "      <td>56</td>\n",
       "      <td>0</td>\n",
       "      <td>0</td>\n",
       "      <td>0</td>\n",
       "      <td>0</td>\n",
       "      <td>0</td>\n",
       "      <td>0</td>\n",
       "      <td>0</td>\n",
       "    </tr>\n",
       "    <tr>\n",
       "      <th>1</th>\n",
       "      <td>1</td>\n",
       "      <td>0</td>\n",
       "      <td>0</td>\n",
       "      <td>0</td>\n",
       "      <td>0</td>\n",
       "      <td>0</td>\n",
       "      <td>0</td>\n",
       "      <td>0</td>\n",
       "      <td>0</td>\n",
       "      <td>0</td>\n",
       "      <td>...</td>\n",
       "      <td>34</td>\n",
       "      <td>0</td>\n",
       "      <td>0</td>\n",
       "      <td>0</td>\n",
       "      <td>0</td>\n",
       "      <td>0</td>\n",
       "      <td>0</td>\n",
       "      <td>0</td>\n",
       "      <td>0</td>\n",
       "      <td>0</td>\n",
       "    </tr>\n",
       "    <tr>\n",
       "      <th>2</th>\n",
       "      <td>2</td>\n",
       "      <td>0</td>\n",
       "      <td>0</td>\n",
       "      <td>0</td>\n",
       "      <td>0</td>\n",
       "      <td>0</td>\n",
       "      <td>0</td>\n",
       "      <td>14</td>\n",
       "      <td>53</td>\n",
       "      <td>99</td>\n",
       "      <td>...</td>\n",
       "      <td>0</td>\n",
       "      <td>0</td>\n",
       "      <td>0</td>\n",
       "      <td>0</td>\n",
       "      <td>63</td>\n",
       "      <td>53</td>\n",
       "      <td>31</td>\n",
       "      <td>0</td>\n",
       "      <td>0</td>\n",
       "      <td>0</td>\n",
       "    </tr>\n",
       "    <tr>\n",
       "      <th>3</th>\n",
       "      <td>2</td>\n",
       "      <td>0</td>\n",
       "      <td>0</td>\n",
       "      <td>0</td>\n",
       "      <td>0</td>\n",
       "      <td>0</td>\n",
       "      <td>0</td>\n",
       "      <td>0</td>\n",
       "      <td>0</td>\n",
       "      <td>0</td>\n",
       "      <td>...</td>\n",
       "      <td>137</td>\n",
       "      <td>126</td>\n",
       "      <td>140</td>\n",
       "      <td>0</td>\n",
       "      <td>133</td>\n",
       "      <td>224</td>\n",
       "      <td>222</td>\n",
       "      <td>56</td>\n",
       "      <td>0</td>\n",
       "      <td>0</td>\n",
       "    </tr>\n",
       "    <tr>\n",
       "      <th>4</th>\n",
       "      <td>3</td>\n",
       "      <td>0</td>\n",
       "      <td>0</td>\n",
       "      <td>0</td>\n",
       "      <td>0</td>\n",
       "      <td>0</td>\n",
       "      <td>0</td>\n",
       "      <td>0</td>\n",
       "      <td>0</td>\n",
       "      <td>0</td>\n",
       "      <td>...</td>\n",
       "      <td>0</td>\n",
       "      <td>0</td>\n",
       "      <td>0</td>\n",
       "      <td>0</td>\n",
       "      <td>0</td>\n",
       "      <td>0</td>\n",
       "      <td>0</td>\n",
       "      <td>0</td>\n",
       "      <td>0</td>\n",
       "      <td>0</td>\n",
       "    </tr>\n",
       "  </tbody>\n",
       "</table>\n",
       "<p>5 rows × 785 columns</p>\n",
       "</div>"
      ],
      "text/plain": [
       "   label  pixel1  pixel2  pixel3  pixel4  pixel5  pixel6  pixel7  pixel8  \\\n",
       "0      0       0       0       0       0       0       0       0       9   \n",
       "1      1       0       0       0       0       0       0       0       0   \n",
       "2      2       0       0       0       0       0       0      14      53   \n",
       "3      2       0       0       0       0       0       0       0       0   \n",
       "4      3       0       0       0       0       0       0       0       0   \n",
       "\n",
       "   pixel9  ...  pixel775  pixel776  pixel777  pixel778  pixel779  pixel780  \\\n",
       "0       8  ...       103        87        56         0         0         0   \n",
       "1       0  ...        34         0         0         0         0         0   \n",
       "2      99  ...         0         0         0         0        63        53   \n",
       "3       0  ...       137       126       140         0       133       224   \n",
       "4       0  ...         0         0         0         0         0         0   \n",
       "\n",
       "   pixel781  pixel782  pixel783  pixel784  \n",
       "0         0         0         0         0  \n",
       "1         0         0         0         0  \n",
       "2        31         0         0         0  \n",
       "3       222        56         0         0  \n",
       "4         0         0         0         0  \n",
       "\n",
       "[5 rows x 785 columns]"
      ]
     },
     "execution_count": 7,
     "metadata": {},
     "output_type": "execute_result"
    }
   ],
   "source": [
    "test_df.head()"
   ]
  },
  {
   "cell_type": "code",
   "execution_count": 8,
   "metadata": {},
   "outputs": [
    {
     "name": "stdout",
     "output_type": "stream",
     "text": [
      "<class 'pandas.core.frame.DataFrame'>\n",
      "RangeIndex: 60000 entries, 0 to 59999\n",
      "Columns: 785 entries, label to pixel784\n",
      "dtypes: int64(785)\n",
      "memory usage: 359.3 MB\n"
     ]
    }
   ],
   "source": [
    "train_df.info()"
   ]
  },
  {
   "cell_type": "code",
   "execution_count": 9,
   "metadata": {},
   "outputs": [
    {
     "name": "stdout",
     "output_type": "stream",
     "text": [
      "<class 'pandas.core.frame.DataFrame'>\n",
      "RangeIndex: 10000 entries, 0 to 9999\n",
      "Columns: 785 entries, label to pixel784\n",
      "dtypes: int64(785)\n",
      "memory usage: 59.9 MB\n"
     ]
    }
   ],
   "source": [
    "test_df.info()"
   ]
  },
  {
   "cell_type": "code",
   "execution_count": 10,
   "metadata": {},
   "outputs": [
    {
     "data": {
      "text/plain": [
       "(60000, 785)"
      ]
     },
     "execution_count": 10,
     "metadata": {},
     "output_type": "execute_result"
    }
   ],
   "source": [
    "train_df.shape"
   ]
  },
  {
   "cell_type": "code",
   "execution_count": 11,
   "metadata": {},
   "outputs": [
    {
     "data": {
      "text/plain": [
       "(10000, 785)"
      ]
     },
     "execution_count": 11,
     "metadata": {},
     "output_type": "execute_result"
    }
   ],
   "source": [
    "test_df.shape"
   ]
  },
  {
   "cell_type": "code",
   "execution_count": 12,
   "metadata": {},
   "outputs": [],
   "source": [
    "training = np.array(train_df, dtype='float32')"
   ]
  },
  {
   "cell_type": "code",
   "execution_count": 13,
   "metadata": {},
   "outputs": [],
   "source": [
    "testing = np.array(test_df, dtype='float32')"
   ]
  },
  {
   "cell_type": "code",
   "execution_count": 14,
   "metadata": {},
   "outputs": [
    {
     "data": {
      "text/plain": [
       "<matplotlib.image.AxesImage at 0x7f5cc40e2908>"
      ]
     },
     "execution_count": 14,
     "metadata": {},
     "output_type": "execute_result"
    },
    {
     "data": {
      "image/png": "[encoded data removed]",
      "text/plain": [
       "<Figure size 432x288 with 1 Axes>"
      ]
     },
     "metadata": {
      "needs_background": "light"
     },
     "output_type": "display_data"
    }
   ],
   "source": [
    "plt.imshow(training[2,1:].reshape(28,28))"
   ]
  },
  {
   "cell_type": "code",
   "execution_count": 15,
   "metadata": {},
   "outputs": [],
   "source": [
    "x_train = training[:,1:]/255\n",
    "x_test = testing[:,1:]/255\n",
    "y_train = training[:,0]\n",
    "y_test = testing[:,0]"
   ]
  },
  {
   "cell_type": "code",
   "execution_count": 16,
   "metadata": {},
   "outputs": [],
   "source": [
    "from sklearn.model_selection import train_test_split"
   ]
  },
  {
   "cell_type": "code",
   "execution_count": 17,
   "metadata": {},
   "outputs": [],
   "source": [
    "x_train, x_validate, y_train, y_validate = train_test_split(x_train,y_train,test_size=0.2,random_state=12345)"
   ]
  },
  {
   "cell_type": "code",
   "execution_count": 22,
   "metadata": {},
   "outputs": [],
   "source": [
    "x_train = x_train.reshape(x_train.shape[0], *(28,28,1))\n",
    "x_test = x_test.reshape(x_test.shape[0], *(28,28,1))\n",
    "x_validate = x_validate.reshape(x_validate.shape[0], *(28,28,1))\n"
   ]
  },
  {
   "cell_type": "code",
   "execution_count": 57,
   "metadata": {},
   "outputs": [],
   "source": [
    "import keras\n",
    "from keras.models import Sequential\n",
    "from keras.layers import Conv2D, MaxPool2D, Dense, Flatten, Dropout\n",
    "from keras.optimizers import Adam\n",
    "from keras.callbacks import TensorBoard"
   ]
  },
  {
   "cell_type": "code",
   "execution_count": 58,
   "metadata": {},
   "outputs": [],
   "source": [
    "cnn_model = Sequential()"
   ]
  },
  {
   "cell_type": "code",
   "execution_count": 59,
   "metadata": {},
   "outputs": [
    {
     "name": "stderr",
     "output_type": "stream",
     "text": [
      "/home/danyshman/miniconda3/envs/datascience/lib/python3.7/site-packages/ipykernel_launcher.py:1: UserWarning: Update your `Conv2D` call to the Keras 2 API: `Conv2D(128, (3, 3), input_shape=(28, 28, 1..., activation=\"relu\")`\n",
      "  \"\"\"Entry point for launching an IPython kernel.\n"
     ]
    }
   ],
   "source": [
    "cnn_model.add(Conv2D(128,3,3,input_shape=(28,28,1),activation='relu'))"
   ]
  },
  {
   "cell_type": "code",
   "execution_count": 60,
   "metadata": {},
   "outputs": [],
   "source": [
    "cnn_model.add(MaxPool2D(pool_size=(2,2)))"
   ]
  },
  {
   "cell_type": "code",
   "execution_count": 61,
   "metadata": {},
   "outputs": [],
   "source": [
    "cnn_model.add(Flatten())"
   ]
  },
  {
   "cell_type": "code",
   "execution_count": 62,
   "metadata": {},
   "outputs": [
    {
     "name": "stderr",
     "output_type": "stream",
     "text": [
      "/home/danyshman/miniconda3/envs/datascience/lib/python3.7/site-packages/ipykernel_launcher.py:1: UserWarning: Update your `Dense` call to the Keras 2 API: `Dense(activation=\"relu\", units=32)`\n",
      "  \"\"\"Entry point for launching an IPython kernel.\n",
      "/home/danyshman/miniconda3/envs/datascience/lib/python3.7/site-packages/ipykernel_launcher.py:2: UserWarning: Update your `Dense` call to the Keras 2 API: `Dense(activation=\"sigmoid\", units=10)`\n",
      "  \n"
     ]
    }
   ],
   "source": [
    "cnn_model.add(Dense(output_dim=32,activation='relu'))\n",
    "cnn_model.add(Dense(output_dim=10,activation='sigmoid'))"
   ]
  },
  {
   "cell_type": "code",
   "execution_count": 63,
   "metadata": {},
   "outputs": [],
   "source": [
    "cnn_model.compile(loss='sparse_categorical_crossentropy',optimizer=Adam(lr=0.001),metrics=['accuracy'])"
   ]
  },
  {
   "cell_type": "code",
   "execution_count": 64,
   "metadata": {},
   "outputs": [],
   "source": [
    "epochs = 50"
   ]
  },
  {
   "cell_type": "code",
   "execution_count": 65,
   "metadata": {},
   "outputs": [
    {
     "name": "stderr",
     "output_type": "stream",
     "text": [
      "/home/danyshman/miniconda3/envs/datascience/lib/python3.7/site-packages/ipykernel_launcher.py:1: UserWarning: The `nb_epoch` argument in `fit` has been renamed `epochs`.\n",
      "  \"\"\"Entry point for launching an IPython kernel.\n"
     ]
    },
    {
     "name": "stdout",
     "output_type": "stream",
     "text": [
      "Train on 48000 samples, validate on 12000 samples\n",
      "Epoch 1/50\n",
      "48000/48000 [==============================] - 217s 5ms/step - loss: 0.8326 - acc: 0.7089 - val_loss: 0.4740 - val_acc: 0.8395\n",
      "Epoch 2/50\n",
      "48000/48000 [==============================] - 213s 4ms/step - loss: 0.4405 - acc: 0.8457 - val_loss: 0.4104 - val_acc: 0.8558\n",
      "Epoch 3/50\n",
      "48000/48000 [==============================] - 208s 4ms/step - loss: 0.3805 - acc: 0.8671 - val_loss: 0.3846 - val_acc: 0.8653\n",
      "Epoch 4/50\n",
      "48000/48000 [==============================] - 194s 4ms/step - loss: 0.3450 - acc: 0.8797 - val_loss: 0.3383 - val_acc: 0.8811\n",
      "Epoch 5/50\n",
      "48000/48000 [==============================] - 214s 4ms/step - loss: 0.3194 - acc: 0.8878 - val_loss: 0.3258 - val_acc: 0.8835\n",
      "Epoch 6/50\n",
      "48000/48000 [==============================] - 214s 4ms/step - loss: 0.3029 - acc: 0.8930 - val_loss: 0.2983 - val_acc: 0.8982\n",
      "Epoch 7/50\n",
      "48000/48000 [==============================] - 215s 4ms/step - loss: 0.2850 - acc: 0.8992 - val_loss: 0.2991 - val_acc: 0.8949\n",
      "Epoch 8/50\n",
      "48000/48000 [==============================] - 213s 4ms/step - loss: 0.2700 - acc: 0.9051 - val_loss: 0.2802 - val_acc: 0.9033\n",
      "Epoch 9/50\n",
      "48000/48000 [==============================] - 231s 5ms/step - loss: 0.2647 - acc: 0.9060 - val_loss: 0.2903 - val_acc: 0.8968\n",
      "Epoch 10/50\n",
      "48000/48000 [==============================] - 212s 4ms/step - loss: 0.2556 - acc: 0.9091 - val_loss: 0.2794 - val_acc: 0.9016\n",
      "Epoch 11/50\n",
      "48000/48000 [==============================] - 185s 4ms/step - loss: 0.2444 - acc: 0.9143 - val_loss: 0.2907 - val_acc: 0.8955\n",
      "Epoch 12/50\n",
      "48000/48000 [==============================] - 184s 4ms/step - loss: 0.2374 - acc: 0.9163 - val_loss: 0.2672 - val_acc: 0.9040\n",
      "Epoch 13/50\n",
      "48000/48000 [==============================] - 202s 4ms/step - loss: 0.2261 - acc: 0.9211 - val_loss: 0.2621 - val_acc: 0.9061\n",
      "Epoch 14/50\n",
      "48000/48000 [==============================] - 206s 4ms/step - loss: 0.2200 - acc: 0.9229 - val_loss: 0.2541 - val_acc: 0.9108\n",
      "Epoch 15/50\n",
      "48000/48000 [==============================] - 202s 4ms/step - loss: 0.2126 - acc: 0.9254 - val_loss: 0.2573 - val_acc: 0.9071\n",
      "Epoch 16/50\n",
      "48000/48000 [==============================] - 216s 5ms/step - loss: 0.2073 - acc: 0.9272 - val_loss: 0.2575 - val_acc: 0.9077\n",
      "Epoch 17/50\n",
      "48000/48000 [==============================] - 213s 4ms/step - loss: 0.2055 - acc: 0.9268 - val_loss: 0.2504 - val_acc: 0.9097\n",
      "Epoch 18/50\n",
      "48000/48000 [==============================] - 213s 4ms/step - loss: 0.1935 - acc: 0.9316 - val_loss: 0.2491 - val_acc: 0.9113\n",
      "Epoch 19/50\n",
      "48000/48000 [==============================] - 234s 5ms/step - loss: 0.1914 - acc: 0.9329 - val_loss: 0.2520 - val_acc: 0.9107\n",
      "Epoch 20/50\n",
      "48000/48000 [==============================] - 225s 5ms/step - loss: 0.1843 - acc: 0.9355 - val_loss: 0.2558 - val_acc: 0.9078\n",
      "Epoch 21/50\n",
      "48000/48000 [==============================] - 187s 4ms/step - loss: 0.1780 - acc: 0.9381 - val_loss: 0.2431 - val_acc: 0.9146\n",
      "Epoch 22/50\n",
      "48000/48000 [==============================] - 187s 4ms/step - loss: 0.1720 - acc: 0.9399 - val_loss: 0.2414 - val_acc: 0.9137\n",
      "Epoch 23/50\n",
      "48000/48000 [==============================] - 186s 4ms/step - loss: 0.1672 - acc: 0.9421 - val_loss: 0.2464 - val_acc: 0.9130\n",
      "Epoch 24/50\n",
      "48000/48000 [==============================] - 197s 4ms/step - loss: 0.1634 - acc: 0.9425 - val_loss: 0.2394 - val_acc: 0.9159\n",
      "Epoch 25/50\n",
      "48000/48000 [==============================] - 203s 4ms/step - loss: 0.1590 - acc: 0.9436 - val_loss: 0.2499 - val_acc: 0.9117\n",
      "Epoch 26/50\n",
      "48000/48000 [==============================] - 216s 4ms/step - loss: 0.1543 - acc: 0.9457 - val_loss: 0.2513 - val_acc: 0.9114\n",
      "Epoch 27/50\n",
      "48000/48000 [==============================] - 206s 4ms/step - loss: 0.1489 - acc: 0.9474 - val_loss: 0.2414 - val_acc: 0.9165\n",
      "Epoch 28/50\n",
      "48000/48000 [==============================] - 221s 5ms/step - loss: 0.1459 - acc: 0.9484 - val_loss: 0.2413 - val_acc: 0.9149\n",
      "Epoch 29/50\n",
      "48000/48000 [==============================] - 225s 5ms/step - loss: 0.1447 - acc: 0.9494 - val_loss: 0.2573 - val_acc: 0.9087\n",
      "Epoch 30/50\n",
      "48000/48000 [==============================] - 34509s 719ms/step - loss: 0.1412 - acc: 0.9501 - val_loss: 0.2457 - val_acc: 0.9158\n",
      "Epoch 31/50\n",
      "48000/48000 [==============================] - 195s 4ms/step - loss: 0.1369 - acc: 0.9518 - val_loss: 0.2551 - val_acc: 0.9118\n",
      "Epoch 32/50\n",
      "48000/48000 [==============================] - 167s 3ms/step - loss: 0.1294 - acc: 0.9545 - val_loss: 0.2459 - val_acc: 0.9161\n",
      "Epoch 33/50\n",
      "48000/48000 [==============================] - 170s 4ms/step - loss: 0.1229 - acc: 0.9588 - val_loss: 0.2498 - val_acc: 0.9167\n",
      "Epoch 34/50\n",
      "48000/48000 [==============================] - 173s 4ms/step - loss: 0.1228 - acc: 0.9572 - val_loss: 0.2565 - val_acc: 0.9120\n",
      "Epoch 35/50\n",
      "48000/48000 [==============================] - 174s 4ms/step - loss: 0.1188 - acc: 0.9590 - val_loss: 0.2530 - val_acc: 0.9142\n",
      "Epoch 36/50\n",
      "48000/48000 [==============================] - 177s 4ms/step - loss: 0.1155 - acc: 0.9603 - val_loss: 0.2582 - val_acc: 0.9142\n",
      "Epoch 37/50\n",
      "48000/48000 [==============================] - 174s 4ms/step - loss: 0.1100 - acc: 0.9628 - val_loss: 0.2484 - val_acc: 0.9158\n",
      "Epoch 38/50\n",
      "48000/48000 [==============================] - 175s 4ms/step - loss: 0.1046 - acc: 0.9651 - val_loss: 0.2544 - val_acc: 0.9163\n",
      "Epoch 39/50\n",
      "48000/48000 [==============================] - 175s 4ms/step - loss: 0.1065 - acc: 0.9631 - val_loss: 0.2604 - val_acc: 0.9147\n",
      "Epoch 40/50\n",
      "48000/48000 [==============================] - 174s 4ms/step - loss: 0.1034 - acc: 0.9645 - val_loss: 0.2572 - val_acc: 0.9143\n",
      "Epoch 41/50\n",
      "48000/48000 [==============================] - 186s 4ms/step - loss: 0.0964 - acc: 0.9677 - val_loss: 0.2625 - val_acc: 0.9142\n",
      "Epoch 42/50\n",
      "48000/48000 [==============================] - 197s 4ms/step - loss: 0.0931 - acc: 0.9693 - val_loss: 0.2637 - val_acc: 0.9166\n",
      "Epoch 43/50\n",
      "48000/48000 [==============================] - 172s 4ms/step - loss: 0.0921 - acc: 0.9694 - val_loss: 0.2638 - val_acc: 0.9161\n",
      "Epoch 44/50\n",
      "48000/48000 [==============================] - 175s 4ms/step - loss: 0.0891 - acc: 0.9699 - val_loss: 0.2829 - val_acc: 0.9116\n",
      "Epoch 45/50\n",
      "48000/48000 [==============================] - 181s 4ms/step - loss: 0.0880 - acc: 0.9703 - val_loss: 0.2736 - val_acc: 0.9138\n",
      "Epoch 46/50\n",
      "48000/48000 [==============================] - 166s 3ms/step - loss: 0.0835 - acc: 0.9727 - val_loss: 0.2942 - val_acc: 0.9100\n",
      "Epoch 47/50\n",
      "48000/48000 [==============================] - 167s 3ms/step - loss: 0.0795 - acc: 0.9741 - val_loss: 0.2957 - val_acc: 0.9097\n",
      "Epoch 48/50\n",
      "48000/48000 [==============================] - 165s 3ms/step - loss: 0.0775 - acc: 0.9744 - val_loss: 0.2777 - val_acc: 0.9129\n",
      "Epoch 49/50\n",
      "48000/48000 [==============================] - 174s 4ms/step - loss: 0.0783 - acc: 0.9739 - val_loss: 0.2944 - val_acc: 0.9120\n",
      "Epoch 50/50\n",
      "48000/48000 [==============================] - 178s 4ms/step - loss: 0.0770 - acc: 0.9744 - val_loss: 0.2835 - val_acc: 0.9130\n"
     ]
    },
    {
     "data": {
      "text/plain": [
       "<keras.callbacks.History at 0x7f5c87d56ac8>"
      ]
     },
     "execution_count": 65,
     "metadata": {},
     "output_type": "execute_result"
    }
   ],
   "source": [
    "cnn_model.fit(x_train,y_train, batch_size=512,nb_epoch=epochs,verbose=1,validation_data=(x_validate,y_validate))"
   ]
  },
  {
   "cell_type": "code",
   "execution_count": 67,
   "metadata": {},
   "outputs": [
    {
     "name": "stdout",
     "output_type": "stream",
     "text": [
      "10000/10000 [==============================] - 30s 3ms/step\n"
     ]
    },
    {
     "data": {
      "text/plain": [
       "[0.2915643140435219, 0.9136]"
      ]
     },
     "execution_count": 67,
     "metadata": {},
     "output_type": "execute_result"
    }
   ],
   "source": [
    "evaluation = cnn_model.evaluate(x_test,y_test)\n",
    "evaluation"
   ]
  },
  {
   "cell_type": "code",
   "execution_count": 68,
   "metadata": {},
   "outputs": [],
   "source": [
    "predicted_classes = cnn_model.predict_classes(x_test)"
   ]
  },
  {
   "cell_type": "code",
   "execution_count": 69,
   "metadata": {},
   "outputs": [
    {
     "data": {
      "text/plain": [
       "array([0, 1, 2, ..., 8, 8, 1])"
      ]
     },
     "execution_count": 69,
     "metadata": {},
     "output_type": "execute_result"
    }
   ],
   "source": [
    "predicted_classes"
   ]
  },
  {
   "cell_type": "code",
   "execution_count": 70,
   "metadata": {},
   "outputs": [],
   "source": [
    "from sklearn.metrics import confusion_matrix, classification_report"
   ]
  },
  {
   "cell_type": "code",
   "execution_count": 71,
   "metadata": {},
   "outputs": [],
   "source": [
    "cm = confusion_matrix(y_test, predicted_classes)"
   ]
  },
  {
   "cell_type": "code",
   "execution_count": 72,
   "metadata": {},
   "outputs": [
    {
     "data": {
      "text/plain": [
       "array([[886,   0,  14,   9,   2,   1,  80,   0,   8,   0],\n",
       "       [  4, 986,   1,   6,   2,   0,   1,   0,   0,   0],\n",
       "       [ 20,   1, 802,  10,  88,   0,  78,   0,   1,   0],\n",
       "       [ 29,   7,   6, 891,  36,   0,  29,   0,   2,   0],\n",
       "       [  2,   0,  18,  13, 906,   0,  61,   0,   0,   0],\n",
       "       [  0,   1,   0,   0,   0, 964,   0,  20,   2,  13],\n",
       "       [113,   3,  32,  15,  55,   0, 778,   0,   4,   0],\n",
       "       [  0,   0,   0,   0,   0,   3,   0, 973,   0,  24],\n",
       "       [  3,   2,   1,   1,   1,   2,   6,   2, 982,   0],\n",
       "       [  0,   0,   0,   0,   1,   1,   0,  30,   0, 968]])"
      ]
     },
     "execution_count": 72,
     "metadata": {},
     "output_type": "execute_result"
    }
   ],
   "source": [
    "cm"
   ]
  },
  {
   "cell_type": "code",
   "execution_count": 73,
   "metadata": {},
   "outputs": [
    {
     "name": "stdout",
     "output_type": "stream",
     "text": [
      "              precision    recall  f1-score   support\n",
      "\n",
      "     Class 0       0.84      0.89      0.86      1000\n",
      "     Class 1       0.99      0.99      0.99      1000\n",
      "     Class 2       0.92      0.80      0.86      1000\n",
      "     Class 3       0.94      0.89      0.92      1000\n",
      "     Class 4       0.83      0.91      0.87      1000\n",
      "     Class 5       0.99      0.96      0.98      1000\n",
      "     Class 6       0.75      0.78      0.77      1000\n",
      "     Class 7       0.95      0.97      0.96      1000\n",
      "     Class 8       0.98      0.98      0.98      1000\n",
      "     Class 9       0.96      0.97      0.97      1000\n",
      "\n",
      "   micro avg       0.91      0.91      0.91     10000\n",
      "   macro avg       0.92      0.91      0.91     10000\n",
      "weighted avg       0.92      0.91      0.91     10000\n",
      "\n"
     ]
    }
   ],
   "source": [
    "num_classes = 10\n",
    "target_names = ['Class {}'.format(i) for i in range(num_classes)]\n",
    "print(classification_report(y_test, predicted_classes,target_names=target_names))"
   ]
  },
  {
   "cell_type": "code",
   "execution_count": null,
   "metadata": {},
   "outputs": [],
   "source": []
  }
 ],
 "metadata": {
  "kernelspec": {
   "display_name": "Python (datascience)",
   "language": "python",
   "name": "datascience"
  },
  "language_info": {
   "codemirror_mode": {
    "name": "ipython",
    "version": 3
   },
   "file_extension": ".py",
   "mimetype": "text/x-python",
   "name": "python",
   "nbconvert_exporter": "python",
   "pygments_lexer": "ipython3",
   "version": "3.7.2"
  }
 },
 "nbformat": 4,
 "nbformat_minor": 2
}
